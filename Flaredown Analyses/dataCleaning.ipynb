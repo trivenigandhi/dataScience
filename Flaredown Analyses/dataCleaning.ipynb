{
 "cells": [
  {
   "cell_type": "code",
   "execution_count": 1,
   "metadata": {},
   "outputs": [],
   "source": [
    "import pandas as pd\n",
    "import numpy as np\n",
    "import seaborn\n",
    "%config IPCompleter.greedy=True"
   ]
  },
  {
   "cell_type": "code",
   "execution_count": 2,
   "metadata": {},
   "outputs": [],
   "source": [
    "data = pd.read_csv(\"data/originalData.csv\")"
   ]
  },
  {
   "cell_type": "code",
   "execution_count": 24,
   "metadata": {},
   "outputs": [
    {
     "name": "stderr",
     "output_type": "stream",
     "text": [
      "/anaconda/envs/env/lib/python3.6/site-packages/ipykernel_launcher.py:2: DeprecationWarning: \n",
      ".ix is deprecated. Please use\n",
      ".loc for label based indexing or\n",
      ".iloc for positional indexing\n",
      "\n",
      "See the documentation here:\n",
      "http://pandas.pydata.org/pandas-docs/stable/indexing.html#ix-indexer-is-deprecated\n",
      "  \n"
     ]
    }
   ],
   "source": [
    "mask = (data[\"trackable_type\"]==\"Condition\") | (data[\"trackable_type\"]==\"Symptom\")\n",
    "cond = data.ix[mask]\n",
    "anxietyUsers = cond[cond.trackable_name.str.contains(\"anxiety\",na=False,case=False)].user_id.unique()"
   ]
  },
  {
   "cell_type": "code",
   "execution_count": 4,
   "metadata": {},
   "outputs": [],
   "source": [
    "anxiety = data[data[\"user_id\"].isin(anxietyUsers)].reset_index()"
   ]
  },
  {
   "cell_type": "code",
   "execution_count": 5,
   "metadata": {},
   "outputs": [],
   "source": [
    "userInfo = anxiety.loc[:,['user_id','age','sex','country']].drop_duplicates().reset_index()"
   ]
  },
  {
   "cell_type": "code",
   "execution_count": 6,
   "metadata": {},
   "outputs": [],
   "source": [
    "userInfo = userInfo.rename(index=str,columns={\"index\":\"new_id\"})"
   ]
  },
  {
   "cell_type": "code",
   "execution_count": 34,
   "metadata": {},
   "outputs": [],
   "source": [
    "keepcols = ['user_id','checkin_date','trackable_id','trackable_type','trackable_name','trackable_value']\n",
    "longData = pd.merge(anxiety.loc[:,keepcols],userInfo.loc[:,['new_id','user_id']],on=\"user_id\",how=\"left\")"
   ]
  },
  {
   "cell_type": "code",
   "execution_count": 35,
   "metadata": {},
   "outputs": [],
   "source": [
    "dataSummary = longData.groupby(\"new_id\").nunique()"
   ]
  },
  {
   "cell_type": "code",
   "execution_count": null,
   "metadata": {},
   "outputs": [],
   "source": [
    "pd.pivot_table(longData[longData[\"new_id\"]==12261],columns=[\"new_id\",\"checkin_date\"])"
   ]
  },
  {
   "cell_type": "code",
   "execution_count": 25,
   "metadata": {},
   "outputs": [
    {
     "data": {
      "text/plain": [
       "trackable_name\n",
       "Fatigue                                  3251\n",
       "Anxiety                                  2710\n",
       "Headache                                 2658\n",
       "Depression                               2561\n",
       "Fibromyalgia                             2398\n",
       "Nausea                                   2204\n",
       "Joint pain                               2080\n",
       "Fatigue and tiredness                    2066\n",
       "Brain fog                                1652\n",
       "Migraine                                 1549\n",
       "Back pain                                1503\n",
       "Diarrhea                                 1440\n",
       "Dizziness                                1325\n",
       "Abdominal pain                           1216\n",
       "Insomnia                                 1128\n",
       "Neck pain                                1103\n",
       "Stomach Pain                             1053\n",
       "Constipation                             1041\n",
       "Chronic fatigue syndrome                  991\n",
       "Muscle pain                               946\n",
       "Chronic pain                              886\n",
       "Ehlers-Danlos syndrome                    870\n",
       "IBS                                       747\n",
       "Chest pain                                740\n",
       "Lower Back Pain                           683\n",
       "Knee pain                                 654\n",
       "Headaches                                 652\n",
       "Bloating                                  632\n",
       "Asthma                                    625\n",
       "Hip pain                                  577\n",
       "                                         ... \n",
       "emotionally tired                           1\n",
       "endo pain                                   1\n",
       "endometriosis                               1\n",
       "energy crash                                1\n",
       "energy is good                              1\n",
       "energy level                                1\n",
       "energy levels in evening                    1\n",
       "energy levels low in the am/afternoon       1\n",
       "engergy level                               1\n",
       "enterocutanious fistula                     1\n",
       "entire body pain                            1\n",
       "environmental allergies                     1\n",
       "eosinophillic esophagitis                   1\n",
       "epididimal pain                             1\n",
       "epigastric                                  1\n",
       "epigastric ache                             1\n",
       "epigastric burning                          1\n",
       "epigastric itching                          1\n",
       "epigastric nausea                           1\n",
       "epigastric pain                             1\n",
       "erkaeltung                                  1\n",
       "erkältung usw                               1\n",
       "erosive gastritis                           1\n",
       "eruptive vellus hair cysts                  1\n",
       "erythema                                    1\n",
       "erythema Nodosum                            1\n",
       "escoliosis                                  1\n",
       "esophageal spasms                           1\n",
       "esophageal spasms                           1\n",
       "  rheumatoid arthritis                      1\n",
       "Name: user_id, Length: 9826, dtype: int64"
      ]
     },
     "execution_count": 25,
     "metadata": {},
     "output_type": "execute_result"
    }
   ],
   "source": [
    "cond.groupby(\"trackable_name\")[\"user_id\"].nunique().sort_values(ascending=False)"
   ]
  }
 ],
 "metadata": {
  "kernelspec": {
   "display_name": "Python 3",
   "language": "python",
   "name": "python3"
  },
  "language_info": {
   "codemirror_mode": {
    "name": "ipython",
    "version": 3
   },
   "file_extension": ".py",
   "mimetype": "text/x-python",
   "name": "python",
   "nbconvert_exporter": "python",
   "pygments_lexer": "ipython3",
   "version": "3.6.4"
  }
 },
 "nbformat": 4,
 "nbformat_minor": 2
}
