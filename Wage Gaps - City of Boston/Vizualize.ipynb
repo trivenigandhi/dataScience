{
 "cells": [
  {
   "cell_type": "markdown",
   "metadata": {},
   "source": [
    "#### This file creates the visualizations used in the report using matplotlib and the seaborn library. "
   ]
  },
  {
   "cell_type": "code",
   "execution_count": 1,
   "metadata": {},
   "outputs": [],
   "source": [
    "## Load libraries\n",
    "import pandas as pd\n",
    "import numpy as np\n",
    "import matplotlib\n",
    "import matplotlib.pyplot as plt\n",
    "import seaborn as sns\n",
    "%matplotlib inline"
   ]
  },
  {
   "cell_type": "code",
   "execution_count": null,
   "metadata": {},
   "outputs": [],
   "source": [
    "## Load the data made in the cleaning script\n",
    "localPath = ## insert your directory here\n",
    "allEarnings = pd.read_csv((localPath + \"earningsByYear.csv\"))\n",
    "    # This is the wide dataset \n",
    "longEarnings = pd.read_csv((localPath + \"earningsLong.csv\"))\n",
    "    # This is the long dataset"
   ]
  },
  {
   "cell_type": "markdown",
   "metadata": {},
   "source": [
    "##### For the first visual, I need to group the data by gender across all years, so I use the allEarnings data to create counts of men and women for each year in the data. This data returns wide however, and for the purpose of plotting these points over time, I need it long by year and gender. The melt function returns each column of \"earningsX\" as a record in the column 'variable' and the count of men and women in each year in the value column. In order to graph the X axis as a year, I convert the \"earningsX\" strings into integers. "
   ]
  },
  {
   "cell_type": "code",
   "execution_count": null,
   "metadata": {},
   "outputs": [],
   "source": [
    "countsByGender = allEarnings.groupby('gender').count().reset_index()\n",
    "countsByGender = countsByGender.melt(id_vars=\"gender\",\n",
    "                 value_vars=['earnings2011', 'earnings2012','earnings2013',\n",
    "                            'earnings2014', 'earnings2015','earnings2016','earnings2017'])\n",
    "countsByGender['variable'] = countsByGender['variable'].str.replace(\"earnings\",\"\").astype(\"int64\")\n",
    "countsByGender = countsByGender.sort_values(by='gender',ascending = False)"
   ]
  },
  {
   "cell_type": "markdown",
   "metadata": {},
   "source": [
    "##### For the plots, I set the style with seaborn and using the figsize argument of subplots set the desired size of the graph. The  first seaborn point plot draws a line graph of the data over time using the mean value for each gender and year in the long data. In the second pointplot, the data is already unique to the gender/year level so it plots the actual counts from the data. I also despine the figures for clarity and save them to their respective output files. "
   ]
  },
  {
   "cell_type": "code",
   "execution_count": null,
   "metadata": {},
   "outputs": [],
   "source": [
    "sns.set_style(\"white\")\n",
    "fig= plt.subplots(figsize = (10,5))\n",
    "sns.pointplot(x=\"year\", y=\"total\", hue=\"gender\",data=longEarnings,palette=\"Set2\").set(\n",
    "    xlabel = \"Year\",ylabel = \"Mean Earnings\")\n",
    "sns.despine()\n",
    "plt.savefig('earningsOverTime.jpeg')"
   ]
  },
  {
   "cell_type": "code",
   "execution_count": null,
   "metadata": {},
   "outputs": [],
   "source": [
    "sns.pointplot(x=\"variable\",y=\"value\",hue = \"gender\",\n",
    "              data = countsByGender,palette =\"Set2\").set(xlabel = \"Year\",\n",
    "                                                      ylabel = \"Number of Employees\")\n",
    "\n",
    "sns.despine()\n",
    "plt.savefig('employeeCountOverTime.jpeg')"
   ]
  },
  {
   "cell_type": "markdown",
   "metadata": {},
   "source": [
    "##### For the next set of visalizations, I need to get the top five largest job titles in the City, so I use count values and a sort to get the names of the first five biggest jobs."
   ]
  },
  {
   "cell_type": "code",
   "execution_count": null,
   "metadata": {},
   "outputs": [],
   "source": [
    "top5 = allEarnings.groupby(['title']).earnings2017.count(\n",
    ").reset_index().sort_values(\"earnings2017\",ascending = False).title.tolist()[:5]"
   ]
  },
  {
   "cell_type": "markdown",
   "metadata": {},
   "source": [
    "##### Then I subset the full wide dataset for employees with only those five job titles. I also make a vector of the top five titles sorted by overall median salary to provide a sort order for the plot later on.  "
   ]
  },
  {
   "cell_type": "code",
   "execution_count": null,
   "metadata": {},
   "outputs": [],
   "source": [
    "topFiveTitles = allEarnings[allEarnings['title'].isin(top5)]\n",
    "topFiveMed = topFiveTitles.groupby(['title']).median().reset_index().sort_values(\n",
    "    by=\"earnings2017\").title.tolist()"
   ]
  },
  {
   "cell_type": "markdown",
   "metadata": {},
   "source": [
    "##### This chunk of code creates the counts of men and women in each title for the year 2017 and determines the percent of each group. The informaiton is used to populate tables in the final report. "
   ]
  },
  {
   "cell_type": "code",
   "execution_count": null,
   "metadata": {},
   "outputs": [],
   "source": [
    "counts = topFiveTitles.groupby(['title','gender']).count().reset_index()\n",
    "counts = counts[['title','gender','earnings2017']]\n",
    "counts = counts.pivot_table(index=\"title\",columns=\"gender\",values=\"earnings2017\")\n",
    "counts[\"totalN\"] = counts.sum(axis=1)\n",
    "counts[\"percentF\"] = (counts[\"F\"]/counts[\"totalN\"])*100\n",
    "counts[\"percentM\"] = (counts[\"M\"]/counts[\"totalN\"])*100\n",
    "counts = counts.sort_values(by=\"totalN\",ascending=False)"
   ]
  },
  {
   "cell_type": "markdown",
   "metadata": {},
   "source": [
    "##### Then I use the seaborn boxplot function to plot the distribution of earnings for each title, with a distinction between men and women. I chose to hide outliers with the showfliers option, and sort the box plots according to the sort order in topFiveMed. Finally, I move the location of the legend and increase the font size for readability."
   ]
  },
  {
   "cell_type": "code",
   "execution_count": null,
   "metadata": {},
   "outputs": [],
   "source": [
    "sns.set_style(\"white\")\n",
    "fig, ax = plt.subplots(figsize=(10,8))\n",
    "sns.boxplot(\n",
    "    x = 'title',y = \"earnings2017\", hue = 'gender', dodge = True,\n",
    "    data=topFiveTitles, palette=\"Set2\", order = topFiveMed,\n",
    "    linewidth = 1, width = .75, showfliers=False).set(\n",
    "    ylabel = \"Total Earnings in 2017\", xlabel = \"\")\n",
    "ax.legend(loc=1)\n",
    "sns.set(font_scale=1.5)\n",
    "sns.despine()\n",
    "plt.savefig('earningsByTitleAndSex.jpeg')"
   ]
  },
  {
   "cell_type": "markdown",
   "metadata": {},
   "source": [
    "##### The last bit of code depends on the output of the Regress.R file where I model the effect of being male across all departments. After reading in the coefficent data, I create a bar plot of the estimated effects, sorted by lowest to larges. I also create custom labels for each bar using the plt.text method and custom labels created from the actual coefficent data. The tight layout function ensures that the edges of the graph are not cut off when saving. "
   ]
  },
  {
   "cell_type": "code",
   "execution_count": null,
   "metadata": {},
   "outputs": [],
   "source": [
    "model = pd.read_csv((localPath + \"modelCoefficents.csv\"))\n",
    "model = model.sort_values(by=\"male\")"
   ]
  },
  {
   "cell_type": "code",
   "execution_count": null,
   "metadata": {},
   "outputs": [],
   "source": [
    "sns.set_style(\"white\")\n",
    "fig= plt.subplots(figsize = (10,10))\n",
    "sns.barplot(y=\"department\", x=\"male\",data=model,palette=sns.cubehelix_palette(10)).set(\n",
    "    xlabel = \"Difference in Earnings from Women\",ylabel = \"Department\")\n",
    "ytickPos = range(len(model['department']))\n",
    "    # This is a vector to tell the graph where on the y axis to place the label.\n",
    "label = [\"{:,}\".format(round(x,2)) for x in model['male']]\n",
    "    # The format method ensure that the data has a comma in the appropriate spot. \n",
    "for i in range(len(label)):\n",
    "     plt.text(x = -2500, y = ytickPos[i], s = label[i], size = 13)\n",
    "# Iterating over every label in the vector, place the ith label in the designated spot.\n",
    "sns.set(font_scale=1.5)\n",
    "plt.tight_layout()\n",
    "sns.despine()\n",
    "plt.savefig('fixedEffectsCoefficents.jpeg')"
   ]
  }
 ],
 "metadata": {
  "kernelspec": {
   "display_name": "Python 3",
   "language": "python",
   "name": "python3"
  },
  "language_info": {
   "codemirror_mode": {
    "name": "ipython",
    "version": 3
   },
   "file_extension": ".py",
   "mimetype": "text/x-python",
   "name": "python",
   "nbconvert_exporter": "python",
   "pygments_lexer": "ipython3",
   "version": "3.6.5"
  }
 },
 "nbformat": 4,
 "nbformat_minor": 2
}
