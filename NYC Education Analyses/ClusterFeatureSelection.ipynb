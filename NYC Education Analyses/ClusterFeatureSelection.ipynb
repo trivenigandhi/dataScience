{
 "cells": [
  {
   "cell_type": "markdown",
   "metadata": {},
   "source": [
    "#### This notebook runs the r2 feature selection function to determine the best features to use in the clustering models. I use the 2015-2016 SQR data to inform feature selection in order to prevent overfitting the data.  "
   ]
  },
  {
   "cell_type": "code",
   "execution_count": 1,
   "metadata": {},
   "outputs": [],
   "source": [
    "import pandas as pd\n",
    "import numpy as np\n",
    "from r2FeatureSelection import r2FeatureSelection\n",
    "from sklearn.preprocessing import Imputer"
   ]
  },
  {
   "cell_type": "markdown",
   "metadata": {},
   "source": [
    "##### For this first set of analyses, I chose to drop na values on the target variables rather than impute a mean or median value across missing records. Schools with cohort sizes less than 20 students are not reported on in NYC data, so imputing values for these schools would overestimate the size of the effect between the features and various targets. "
   ]
  },
  {
   "cell_type": "code",
   "execution_count": 20,
   "metadata": {},
   "outputs": [],
   "source": [
    "data = pd.read_csv(\"data/sqrAnalysisData.csv\")\n",
    "sy = data[data[\"schoolYear\"]=='2015_2016'].copy()\n",
    "syFeatureNames = ['averageGrade8EnglishProficiency','averageGrade8MathProficiency',\n",
    "    'percentEnglishLanguageLearners','percentStudentswithDisabilities','percentSelfContained',\n",
    "    'economicNeedIndex','percentinTempHousing','percentHRAEligible','percentAsian',\n",
    "    'percentBlack','percentHispanic','percentWhite']\n",
    "naDropSy = sy.dropna(subset = ['4YearGraduationRate','collegeandCareerPreparatoryCourseIndex',\n",
    " 'metricCityRating4YearGraduationRateBlackorHispanicMalesinLowestThirdCitywide',\n",
    " '4YearGraduationRateEnglishLanguageLearners'])"
   ]
  },
  {
   "cell_type": "code",
   "execution_count": 22,
   "metadata": {},
   "outputs": [],
   "source": [
    "imp = Imputer(missing_values='NaN', strategy='mean')\n",
    "syFeatures = imp.fit_transform(naDropSy.loc[:,[\n",
    "    'averageGrade8EnglishProficiency','averageGrade8MathProficiency',\n",
    "    'percentEnglishLanguageLearners','percentStudentswithDisabilities','percentSelfContained',\n",
    "    'economicNeedIndex','percentinTempHousing','percentHRAEligible','percentAsian',\n",
    "    'percentBlack','percentHispanic','percentWhite']])"
   ]
  },
  {
   "cell_type": "code",
   "execution_count": 25,
   "metadata": {},
   "outputs": [],
   "source": [
    "gradRate = naDropSy.loc[:,'4YearGraduationRate']\n",
    "ccpci = naDropSy.loc[:,'collegeandCareerPreparatoryCourseIndex']\n",
    "bhLowestThirdGradRate = naDropSy.loc[:, 'metricCityRating4YearGraduationRateBlackorHispanicMalesinLowestThirdCitywide']\n",
    "ellGradRate = naDropSy.loc[:, '4YearGraduationRateEnglishLanguageLearners']"
   ]
  },
  {
   "cell_type": "code",
   "execution_count": 26,
   "metadata": {},
   "outputs": [],
   "source": [
    "gradModel = r2FeatureSelection(data=syFeatures,target=gradRate,featureNames=syFeatureNames) \n",
    "ccpciModel = r2FeatureSelection(data=syFeatures,target=ccpci,featureNames=syFeatureNames) \n",
    "bhModel = r2FeatureSelection(data=syFeatures,target=bhLowestThirdGradRate,featureNames=syFeatureNames) \n",
    "ellModel = r2FeatureSelection(data=syFeatures,target=ellGradRate,featureNames=syFeatureNames) "
   ]
  },
  {
   "cell_type": "code",
   "execution_count": null,
   "metadata": {},
   "outputs": [],
   "source": [
    "## To Do: create a function to drop only missing values for each target"
   ]
  }
 ],
 "metadata": {
  "kernelspec": {
   "display_name": "Python 3",
   "language": "python",
   "name": "python3"
  },
  "language_info": {
   "codemirror_mode": {
    "name": "ipython",
    "version": 3
   },
   "file_extension": ".py",
   "mimetype": "text/x-python",
   "name": "python",
   "nbconvert_exporter": "python",
   "pygments_lexer": "ipython3",
   "version": "3.6.5"
  }
 },
 "nbformat": 4,
 "nbformat_minor": 2
}
