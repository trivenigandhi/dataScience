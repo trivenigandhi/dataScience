{
 "cells": [
  {
   "cell_type": "markdown",
   "metadata": {},
   "source": [
    "#### This is a work in progress function that will do forward stepwise feature selection using the r2 metric from a linear regression."
   ]
  },
  {
   "cell_type": "code",
   "execution_count": 1,
   "metadata": {},
   "outputs": [],
   "source": [
    "import pandas as pd\n",
    "from sklearn.linear_model import LinearRegression\n",
    "from sklearn.model_selection import cross_val_score\n",
    "from sklearn.metrics import r2_score\n",
    "from sklearn.model_selection import train_test_split\n",
    "from sklearn.datasets import load_boston"
   ]
  },
  {
   "cell_type": "code",
   "execution_count": 84,
   "metadata": {},
   "outputs": [],
   "source": [
    "def r2Scores(x,target,crossNum):\n",
    "    from sklearn.linear_model import LinearRegression\n",
    "    from sklearn.model_selection import cross_val_score\n",
    "    from sklearn.metrics import r2_score\n",
    "    ## Create the Model for Individual Testing\n",
    "    model = LinearRegression()\n",
    "    newShape = x.shape[1]\n",
    "    r2 = cross_val_score(estimator=model,X=x.values.reshape(-1,newShape),y=target,scoring='r2',cv=crossNum)\n",
    "    return(r2)"
   ]
  },
  {
   "cell_type": "code",
   "execution_count": 155,
   "metadata": {},
   "outputs": [],
   "source": [
    "def r2FeatureSelection(X,Y,crossNum):\n",
    "    import pandas as pd    \n",
    "    \n",
    "    ## Create the individual feature r2 scores and rank\n",
    "    features = list(X)\n",
    "    r2Ind = [r2Scores(X[[f]],Y,crossNum).mean() for f in features]\n",
    "    featureR2 = pd.DataFrame(data={'featureName':features,\"individualR2\":r2Ind})\n",
    "    ## Create output list of features starting with best ranked from earlier, the successively add\n",
    "    ## each next best feature \n",
    "    featureR2.sort_values(ascending=False,by='individualR2',inplace=True)\n",
    "    featureR2.reset_index(drop=True,inplace=True)\n",
    "    counter = 1\n",
    "    featureR2['cumulativeR2'] = ''\n",
    "    while counter < len(featureR2):\n",
    "        dataCols = featureR2.iloc[:2,0].tolist()\n",
    "        featureR2.iloc[counter-1,2] = r2Scores(X[dataCols],Y,crossNum).mean()\n",
    "        counter +=1\n",
    "    ## return list\n",
    "    return featureR2"
   ]
  },
  {
   "cell_type": "code",
   "execution_count": 88,
   "metadata": {},
   "outputs": [],
   "source": [
    "boston = load_boston()\n",
    "bostonData = pd.DataFrame(data=boston.data,columns = boston.feature_names)"
   ]
  },
  {
   "cell_type": "code",
   "execution_count": 156,
   "metadata": {},
   "outputs": [],
   "source": [
    "test = r2FeatureSelection(bostonData,boston.target,3)"
   ]
  },
  {
   "cell_type": "code",
   "execution_count": 157,
   "metadata": {},
   "outputs": [
    {
     "data": {
      "text/html": [
       "<div>\n",
       "<style scoped>\n",
       "    .dataframe tbody tr th:only-of-type {\n",
       "        vertical-align: middle;\n",
       "    }\n",
       "\n",
       "    .dataframe tbody tr th {\n",
       "        vertical-align: top;\n",
       "    }\n",
       "\n",
       "    .dataframe thead th {\n",
       "        text-align: right;\n",
       "    }\n",
       "</style>\n",
       "<table border=\"1\" class=\"dataframe\">\n",
       "  <thead>\n",
       "    <tr style=\"text-align: right;\">\n",
       "      <th></th>\n",
       "      <th>featureName</th>\n",
       "      <th>individualR2</th>\n",
       "      <th>cumulativeR2</th>\n",
       "    </tr>\n",
       "  </thead>\n",
       "  <tbody>\n",
       "    <tr>\n",
       "      <th>0</th>\n",
       "      <td>LSTAT</td>\n",
       "      <td>0.318193</td>\n",
       "      <td>0.157705</td>\n",
       "    </tr>\n",
       "    <tr>\n",
       "      <th>1</th>\n",
       "      <td>RM</td>\n",
       "      <td>0.049668</td>\n",
       "      <td>0.157705</td>\n",
       "    </tr>\n",
       "    <tr>\n",
       "      <th>2</th>\n",
       "      <td>PTRATIO</td>\n",
       "      <td>-0.279693</td>\n",
       "      <td>0.157705</td>\n",
       "    </tr>\n",
       "    <tr>\n",
       "      <th>3</th>\n",
       "      <td>INDUS</td>\n",
       "      <td>-0.352464</td>\n",
       "      <td>0.157705</td>\n",
       "    </tr>\n",
       "    <tr>\n",
       "      <th>4</th>\n",
       "      <td>TAX</td>\n",
       "      <td>-0.367004</td>\n",
       "      <td>0.157705</td>\n",
       "    </tr>\n",
       "    <tr>\n",
       "      <th>5</th>\n",
       "      <td>AGE</td>\n",
       "      <td>-0.378944</td>\n",
       "      <td>0.157705</td>\n",
       "    </tr>\n",
       "    <tr>\n",
       "      <th>6</th>\n",
       "      <td>NOX</td>\n",
       "      <td>-0.381022</td>\n",
       "      <td>0.157705</td>\n",
       "    </tr>\n",
       "    <tr>\n",
       "      <th>7</th>\n",
       "      <td>ZN</td>\n",
       "      <td>-0.437690</td>\n",
       "      <td>0.157705</td>\n",
       "    </tr>\n",
       "    <tr>\n",
       "      <th>8</th>\n",
       "      <td>B</td>\n",
       "      <td>-0.443254</td>\n",
       "      <td>0.157705</td>\n",
       "    </tr>\n",
       "    <tr>\n",
       "      <th>9</th>\n",
       "      <td>DIS</td>\n",
       "      <td>-0.587435</td>\n",
       "      <td>0.157705</td>\n",
       "    </tr>\n",
       "    <tr>\n",
       "      <th>10</th>\n",
       "      <td>CHAS</td>\n",
       "      <td>-0.653457</td>\n",
       "      <td>0.157705</td>\n",
       "    </tr>\n",
       "    <tr>\n",
       "      <th>11</th>\n",
       "      <td>RAD</td>\n",
       "      <td>-1.374855</td>\n",
       "      <td>0.157705</td>\n",
       "    </tr>\n",
       "    <tr>\n",
       "      <th>12</th>\n",
       "      <td>CRIM</td>\n",
       "      <td>-6.630381</td>\n",
       "      <td></td>\n",
       "    </tr>\n",
       "  </tbody>\n",
       "</table>\n",
       "</div>"
      ],
      "text/plain": [
       "   featureName  individualR2 cumulativeR2\n",
       "0        LSTAT      0.318193     0.157705\n",
       "1           RM      0.049668     0.157705\n",
       "2      PTRATIO     -0.279693     0.157705\n",
       "3        INDUS     -0.352464     0.157705\n",
       "4          TAX     -0.367004     0.157705\n",
       "5          AGE     -0.378944     0.157705\n",
       "6          NOX     -0.381022     0.157705\n",
       "7           ZN     -0.437690     0.157705\n",
       "8            B     -0.443254     0.157705\n",
       "9          DIS     -0.587435     0.157705\n",
       "10        CHAS     -0.653457     0.157705\n",
       "11         RAD     -1.374855     0.157705\n",
       "12        CRIM     -6.630381             "
      ]
     },
     "execution_count": 157,
     "metadata": {},
     "output_type": "execute_result"
    }
   ],
   "source": [
    "test"
   ]
  }
 ],
 "metadata": {
  "kernelspec": {
   "display_name": "Python 3",
   "language": "python",
   "name": "python3"
  },
  "language_info": {
   "codemirror_mode": {
    "name": "ipython",
    "version": 3
   },
   "file_extension": ".py",
   "mimetype": "text/x-python",
   "name": "python",
   "nbconvert_exporter": "python",
   "pygments_lexer": "ipython3",
   "version": "3.6.4"
  }
 },
 "nbformat": 4,
 "nbformat_minor": 2
}
