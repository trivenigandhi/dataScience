{
 "cells": [
  {
   "cell_type": "code",
   "execution_count": 1,
   "metadata": {},
   "outputs": [],
   "source": [
    "import pandas as pd\n",
    "import numpy as np\n",
    "from sklearn.cluster import KMeans\n",
    "from sklearn.metrics import silhouette_score, calinski_harabaz_score\n",
    "from sklearn.preprocessing import Imputer"
   ]
  },
  {
   "cell_type": "code",
   "execution_count": 2,
   "metadata": {},
   "outputs": [],
   "source": [
    "data = pd.read_csv(\"data/sqrAnalysisData.csv\")\n",
    "sy1516 = data[data[\"schoolYear\"]=='2015_2016'].copy()\n",
    "sy1617 =data[data[\"schoolYear\"]=='2016-17'].copy()"
   ]
  },
  {
   "cell_type": "code",
   "execution_count": 3,
   "metadata": {},
   "outputs": [],
   "source": [
    "featuresNames = ['averageGrade8MathProficiency','percentEnglishLanguageLearners',\n",
    "                  'percentStudentswithDisabilities','percentSelfContained','economicNeedIndex',\n",
    "                  'percentAsian','percentBlack','percentHispanic','percentWhite']"
   ]
  },
  {
   "cell_type": "code",
   "execution_count": 5,
   "metadata": {},
   "outputs": [],
   "source": [
    "imp = Imputer(missing_values='NaN', strategy='mean')\n",
    "sy1516 = imp.fit_transform(sy1516.loc[:,['averageGrade8MathProficiency',\n",
    " 'percentEnglishLanguageLearners','percentStudentswithDisabilities','percentSelfContained',\n",
    " 'economicNeedIndex','percentAsian','percentBlack','percentHispanic','percentWhite']])\n",
    "sy1617 = imp.fit_transform(sy1617.loc[:,['averageGrade8MathProficiency',\n",
    " 'percentEnglishLanguageLearners','percentStudentswithDisabilities','percentSelfContained',\n",
    " 'economicNeedIndex','percentAsian','percentBlack','percentHispanic','percentWhite']])"
   ]
  },
  {
   "cell_type": "code",
   "execution_count": null,
   "metadata": {},
   "outputs": [],
   "source": []
  }
 ],
 "metadata": {
  "kernelspec": {
   "display_name": "Python 3",
   "language": "python",
   "name": "python3"
  },
  "language_info": {
   "codemirror_mode": {
    "name": "ipython",
    "version": 3
   },
   "file_extension": ".py",
   "mimetype": "text/x-python",
   "name": "python",
   "nbconvert_exporter": "python",
   "pygments_lexer": "ipython3",
   "version": "3.6.5"
  }
 },
 "nbformat": 4,
 "nbformat_minor": 2
}
