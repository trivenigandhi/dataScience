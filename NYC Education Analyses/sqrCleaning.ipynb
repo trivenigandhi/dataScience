{
 "cells": [
  {
   "cell_type": "code",
   "execution_count": 1,
   "metadata": {},
   "outputs": [],
   "source": [
    "import pandas as pd"
   ]
  },
  {
   "cell_type": "code",
   "execution_count": 68,
   "metadata": {},
   "outputs": [],
   "source": [
    "sqrList = [\"data/201516_hs_sqr.xlsx\",\"data/201617_hs_sqr.xlsx\"]\n",
    "sheets = [(\"summary\",\"Summary\"),\n",
    "          (\"studentAchievement\",\"Student Achievement\"),\n",
    "          (\"closingGaps\",\"Closing the Achievement Gap\")]\n",
    "colNames = {'Summary' : ['DBN','School Name','Enrollment','Average Grade 8 English Proficiency',\n",
    "                       'Average Grade 8 Math Proficiency','Percent English Language Learners',\n",
    "                       'Percent Students with Disabilities','Percent Self-Contained',\n",
    "                       'Economic Need Index','Percent Overage/Undercredited',\n",
    "                       'Percent in Temp Housing','Percent HRA Eligible','Percent Asian',\n",
    "                       'Percent Black','Percent Hispanic','Percent White',\n",
    "                       'Years of principal experience at this school',\n",
    "                       'Percent of teachers with 3 or more years of experience',\n",
    "                       'Student Attendance Rate','Percent of Students Chronically Absent',\n",
    "                       'Teacher Attendance Rate'],\n",
    "           'Student Achievment' : ['DBN', 'Metric Value - 4-Year Graduation Rate',\n",
    "                                 'Metric Value - 4-Year College Readiness Index'],\n",
    "           'Closing the Achievement Gap' : ['DBN',\n",
    "                            'Metric Value - 4-Year Graduation Rate - Black or Hispanic Males in Lowest Third Citywide',\n",
    "                            'Metric Value - 4-Year Graduation Rate - English Language Learners',\n",
    "                            'Metric Value - 4-Year Graduation Rate - Self-Contained, Integrated Co-Teaching, or SETSS']}"
   ]
  },
  {
   "cell_type": "code",
   "execution_count": 69,
   "metadata": {},
   "outputs": [],
   "source": [
    "def sqrCleaning(datafile, sheetInfo,desiredCols):\n",
    "    sqrData = pd.read_excel(datafile,sheetname = [s for (n,s) in sheets])\n",
    "    for (n,s) in sheetInfo:\n",
    "        n = sqrData[s].select(desiredCols[s])\n",
    "        print(n)"
   ]
  }
 ],
 "metadata": {
  "kernelspec": {
   "display_name": "Python 3",
   "language": "python",
   "name": "python3"
  },
  "language_info": {
   "codemirror_mode": {
    "name": "ipython",
    "version": 3
   },
   "file_extension": ".py",
   "mimetype": "text/x-python",
   "name": "python",
   "nbconvert_exporter": "python",
   "pygments_lexer": "ipython3",
   "version": "3.6.0"
  }
 },
 "nbformat": 4,
 "nbformat_minor": 2
}
