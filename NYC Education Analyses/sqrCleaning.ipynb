{
 "cells": [
  {
   "cell_type": "code",
   "execution_count": 1,
   "metadata": {},
   "outputs": [],
   "source": [
    "import pandas as pd\n"
   ]
  },
  {
   "cell_type": "code",
   "execution_count": 2,
   "metadata": {},
   "outputs": [],
   "source": [
    "sqrData = pd.read_excel(\"data/201617_hs_sqr.xlsx\",sheetname=[0,1,2])"
   ]
  },
  {
   "cell_type": "code",
   "execution_count": 11,
   "metadata": {},
   "outputs": [],
   "source": [
    "summary = sqrData[0]\n",
    "studentAchievement = sqrData[1]\n",
    "closingGaps = sqrData[2]"
   ]
  },
  {
   "cell_type": "code",
   "execution_count": 18,
   "metadata": {},
   "outputs": [
    {
     "data": {
      "text/html": [
       "<div>\n",
       "<table border=\"1\" class=\"dataframe\">\n",
       "  <thead>\n",
       "    <tr style=\"text-align: right;\">\n",
       "      <th></th>\n",
       "      <th>Metric Rating - 4-Year Graduation Rate</th>\n",
       "      <th>N count - 4-Year Graduation Rate</th>\n",
       "      <th>Metric Value - 4-Year Graduation Rate</th>\n",
       "      <th>Approaching Target For 2017 - 4-Year Graduation Rate</th>\n",
       "      <th>Meeting Target For 2017 - 4-Year Graduation Rate</th>\n",
       "      <th>Exceeding Target For 2017 - 4-Year Graduation Rate</th>\n",
       "      <th>Metric Score - 4-Year Graduation Rate</th>\n",
       "      <th>Comparison Group - 4-Year Graduation Rate</th>\n",
       "      <th>Metric Rating - 4-Year High School Persistence Rate</th>\n",
       "      <th>N count - 4-Year High School Persistence Rate</th>\n",
       "      <th>...</th>\n",
       "      <th>Metric Score - 4-Year High School Persistence Rate</th>\n",
       "      <th>Comparison Group - 4-Year High School Persistence Rate</th>\n",
       "      <th>Metric Rating - 4-Year College Readiness Index</th>\n",
       "      <th>N count - 4-Year College Readiness Index</th>\n",
       "      <th>Metric Value - 4-Year College Readiness Index</th>\n",
       "      <th>Approaching Target For 2017 - 4-Year College Readiness Index</th>\n",
       "      <th>Meeting Target For 2017 - 4-Year College Readiness Index</th>\n",
       "      <th>Exceeding Target For 2017 - 4-Year College Readiness Index</th>\n",
       "      <th>Metric Score - 4-Year College Readiness Index</th>\n",
       "      <th>Comparison Group - 4-Year College Readiness Index</th>\n",
       "    </tr>\n",
       "  </thead>\n",
       "  <tbody>\n",
       "    <tr>\n",
       "      <th>55</th>\n",
       "      <td>Exceeding Target</td>\n",
       "      <td>123.0</td>\n",
       "      <td>0.846</td>\n",
       "      <td>0.692</td>\n",
       "      <td>0.773</td>\n",
       "      <td>0.838</td>\n",
       "      <td>4.09</td>\n",
       "      <td>0.757</td>\n",
       "      <td>Exceeding Target</td>\n",
       "      <td>123.0</td>\n",
       "      <td>...</td>\n",
       "      <td>4.2</td>\n",
       "      <td>0.861</td>\n",
       "      <td>Exceeding Target</td>\n",
       "      <td>123.0</td>\n",
       "      <td>0.65</td>\n",
       "      <td>0.162</td>\n",
       "      <td>0.261</td>\n",
       "      <td>0.368</td>\n",
       "      <td>4.99</td>\n",
       "      <td>0.355</td>\n",
       "    </tr>\n",
       "  </tbody>\n",
       "</table>\n",
       "<p>1 rows × 24 columns</p>\n",
       "</div>"
      ],
      "text/plain": [
       "   Metric Rating - 4-Year Graduation Rate  N count - 4-Year Graduation Rate  \\\n",
       "55                       Exceeding Target                             123.0   \n",
       "\n",
       "    Metric Value - 4-Year Graduation Rate  \\\n",
       "55                                  0.846   \n",
       "\n",
       "    Approaching Target For 2017 - 4-Year Graduation Rate  \\\n",
       "55                                              0.692      \n",
       "\n",
       "    Meeting Target For 2017 - 4-Year Graduation Rate  \\\n",
       "55                                             0.773   \n",
       "\n",
       "    Exceeding Target For 2017 - 4-Year Graduation Rate  \\\n",
       "55                                              0.838    \n",
       "\n",
       "    Metric Score - 4-Year Graduation Rate  \\\n",
       "55                                   4.09   \n",
       "\n",
       "    Comparison Group - 4-Year Graduation Rate  \\\n",
       "55                                      0.757   \n",
       "\n",
       "   Metric Rating - 4-Year High School Persistence Rate  \\\n",
       "55                                   Exceeding Target    \n",
       "\n",
       "    N count - 4-Year High School Persistence Rate  \\\n",
       "55                                          123.0   \n",
       "\n",
       "                          ...                          \\\n",
       "55                        ...                           \n",
       "\n",
       "    Metric Score - 4-Year High School Persistence Rate  \\\n",
       "55                                                4.2    \n",
       "\n",
       "    Comparison Group - 4-Year High School Persistence Rate  \\\n",
       "55                                              0.861        \n",
       "\n",
       "    Metric Rating - 4-Year College Readiness Index  \\\n",
       "55                                Exceeding Target   \n",
       "\n",
       "    N count - 4-Year College Readiness Index  \\\n",
       "55                                     123.0   \n",
       "\n",
       "    Metric Value - 4-Year College Readiness Index  \\\n",
       "55                                           0.65   \n",
       "\n",
       "    Approaching Target For 2017 - 4-Year College Readiness Index  \\\n",
       "55                                              0.162              \n",
       "\n",
       "   Meeting Target For 2017 - 4-Year College Readiness Index  \\\n",
       "55                                              0.261         \n",
       "\n",
       "    Exceeding Target For 2017 - 4-Year College Readiness Index  \\\n",
       "55                                              0.368            \n",
       "\n",
       "    Metric Score - 4-Year College Readiness Index  \\\n",
       "55                                           4.99   \n",
       "\n",
       "    Comparison Group - 4-Year College Readiness Index  \n",
       "55                                              0.355  \n",
       "\n",
       "[1 rows x 24 columns]"
      ]
     },
     "execution_count": 18,
     "metadata": {},
     "output_type": "execute_result"
    }
   ],
   "source": []
  },
  {
   "cell_type": "code",
   "execution_count": 19,
   "metadata": {},
   "outputs": [
    {
     "data": {
      "text/plain": [
       "0.2032520325203252"
      ]
     },
     "execution_count": 19,
     "metadata": {},
     "output_type": "execute_result"
    }
   ],
   "source": []
  }
 ],
 "metadata": {
  "kernelspec": {
   "display_name": "Python 3",
   "language": "python",
   "name": "python3"
  },
  "language_info": {
   "codemirror_mode": {
    "name": "ipython",
    "version": 3
   },
   "file_extension": ".py",
   "mimetype": "text/x-python",
   "name": "python",
   "nbconvert_exporter": "python",
   "pygments_lexer": "ipython3",
   "version": "3.6.0"
  }
 },
 "nbformat": 4,
 "nbformat_minor": 2
}
