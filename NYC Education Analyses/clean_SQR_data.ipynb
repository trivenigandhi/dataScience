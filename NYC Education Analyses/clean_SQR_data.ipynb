{
 "cells": [
  {
   "cell_type": "code",
   "execution_count": 48,
   "metadata": {
    "collapsed": true
   },
   "outputs": [],
   "source": [
    "import pandas as pd\n",
    "import re\n",
    "from functools import reduce"
   ]
  },
  {
   "cell_type": "code",
   "execution_count": 11,
   "metadata": {
    "collapsed": false
   },
   "outputs": [],
   "source": [
    "dataUrls= [\"http://schools.nyc.gov/NR/rdonlyres/19E79FA9-ED99-42BA-B89E-56CB931F2465/0/2014_2015_HS_SQR_Results_2016_04_08.xlsx\",\n",
    "          \"http://schools.nyc.gov/NR/rdonlyres/32595FE4-15E0-4DFE-A4F4-2D9AD32ED6D1/0/2015_2016_HS_SQR_Results_2017_01_05.xlsx\",\n",
    "          \"http://schools.nyc.gov/NR/rdonlyres/CDB6D687-3DAB-4B0D-8DC7-0EF7784E7C3B/0/201617_HS_SQR_Results_2018_01_22.xlsx\"]\n",
    "dataSheets = [\"Summary\",\"Student Achievement\",\"Closing the Achievement Gap\"]\n",
    "summaryColsRegex = \"(?<!Trust)Percent (?!Positive|of)|(8)|Economic|Name|Type|Enrollment\"\n",
    "achievementCols = ['School Name','Metric Value - Graduation Rate, 4 year',\n",
    "                  'Metric Value - Four-Year College Readiness Index']\n",
    "closingCols = ['School Name',\n",
    "               'Metric Value - Graduation Rate, 4-year, black/hispanic lowest third city',\n",
    "              'Metric Value - Graduation Rate, 4-year, Self-Contained, CTT, or SETSS',\n",
    "              'Metric Value - Graduation Rate, 4-year, ELL']"
   ]
  },
  {
   "cell_type": "code",
   "execution_count": 16,
   "metadata": {
    "collapsed": false
   },
   "outputs": [],
   "source": [
    "temp = pd.read_excel(io=url,sheet_name = dataSheets,header=1)\n",
    "temp[\"Summary\"] = temp[\"Summary\"].filter(regex = summaryColsRegex)\n",
    "temp[\"Student Achievement\"] = temp[\"Student Achievement\"].filter(achievementCols)\n",
    "temp[\"Closing the Achievement Gap\"]\n",
    "#full = pd.concat(objs=temp,axis = 1)\n",
    "year = re.search(\"\\d{4}_\\d{4}\",url)[0]\n",
    "full['School Year'] = year"
   ]
  }
 ],
 "metadata": {
  "kernelspec": {
   "display_name": "Python 3",
   "language": "python",
   "name": "python3"
  },
  "language_info": {
   "codemirror_mode": {
    "name": "ipython",
    "version": 3
   },
   "file_extension": ".py",
   "mimetype": "text/x-python",
   "name": "python",
   "nbconvert_exporter": "python",
   "pygments_lexer": "ipython3",
   "version": "3.6.0"
  }
 },
 "nbformat": 4,
 "nbformat_minor": 2
}
