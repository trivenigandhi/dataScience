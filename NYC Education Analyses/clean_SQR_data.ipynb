{
 "cells": [
  {
   "cell_type": "code",
   "execution_count": 1,
   "metadata": {
    "collapsed": true
   },
   "outputs": [],
   "source": [
    "import pandas as pd"
   ]
  },
  {
   "cell_type": "code",
   "execution_count": 19,
   "metadata": {
    "collapsed": false
   },
   "outputs": [],
   "source": [
    "dataUrls= [\"http://schools.nyc.gov/NR/rdonlyres/19E79FA9-ED99-42BA-B89E-56CB931F2465/0/2014_2015_HS_SQR_Results_2016_04_08.xlsx\",\n",
    "          \"http://schools.nyc.gov/NR/rdonlyres/32595FE4-15E0-4DFE-A4F4-2D9AD32ED6D1/0/2015_2016_HS_SQR_Results_2017_01_05.xlsx\",\n",
    "          \"http://schools.nyc.gov/NR/rdonlyres/CDB6D687-3DAB-4B0D-8DC7-0EF7784E7C3B/0/201617_HS_SQR_Results_2018_01_22.xlsx\"]\n",
    "dataSheets = [\"Summary\",\"Student Achievement\",\"Closing the Achievement Gap\"]\n",
    "summaryColsRegex = \"(?<!Trust)Percent (?!Positive|of)|(8)|Economic|DBN|Name|Type\""
   ]
  },
  {
   "cell_type": "code",
   "execution_count": 21,
   "metadata": {
    "collapsed": false
   },
   "outputs": [],
   "source": [
    "test = pd.read_excel(io=dataUrls[1],sheet_name = dataSheets,header=1)"
   ]
  },
  {
   "cell_type": "code",
   "execution_count": 27,
   "metadata": {},
   "outputs": [
    {
     "data": {
      "text/plain": [
       "'0.19.2'"
      ]
     },
     "execution_count": 27,
     "metadata": {},
     "output_type": "execute_result"
    }
   ],
   "source": [
    "pd.__version__"
   ]
  }
 ],
 "metadata": {
  "kernelspec": {
   "display_name": "Python 3",
   "language": "python",
   "name": "python3"
  },
  "language_info": {
   "codemirror_mode": {
    "name": "ipython",
    "version": 3
   },
   "file_extension": ".py",
   "mimetype": "text/x-python",
   "name": "python",
   "nbconvert_exporter": "python",
   "pygments_lexer": "ipython3",
   "version": "3.6.0"
  }
 },
 "nbformat": 4,
 "nbformat_minor": 2
}
